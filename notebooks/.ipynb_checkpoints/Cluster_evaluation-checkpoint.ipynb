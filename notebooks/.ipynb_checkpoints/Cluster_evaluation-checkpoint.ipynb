{
 "cells": [
  {
   "cell_type": "markdown",
   "metadata": {},
   "source": [
    "This notebook compares MCL, LDA, HMDP by the cluster evaluation metrics, BCubed - { Recall, Precision, F-Measure }.\n",
    "\n",
    "The labeling scheme with which 100 out of 6195 comments were grouped in 5 broad clusters is described in the thesis.\n",
    "\n",
    "The models will be compared on the complete corpus and only the gold standard corpus."
   ]
  },
  {
   "cell_type": "code",
   "execution_count": 1,
   "metadata": {},
   "outputs": [
    {
     "name": "stderr",
     "output_type": "stream",
     "text": [
      "UsageError: Line magic function `%capture` not found (But cell magic `%%capture` exists, did you mean that instead?).\n"
     ]
    }
   ],
   "source": [
    "%%capture\n",
    "\n",
    "import pandas as pd\n",
    "import matplotlib.pyplot as plt\n",
    "\n",
    "from cluster_evaluation import *\n",
    "from hmdp_summarizer import *\n",
    "from lda_summarizer import *\n",
    "from mcl_summarizer import *"
   ]
  },
  {
   "cell_type": "code",
   "execution_count": 2,
   "metadata": {},
   "outputs": [],
   "source": [
    "gold_standard_path = '../dataset/3/annotations.tsv'\n",
    "gold_standard = pd.read_csv(gold_standard_path, sep='\\t').set_index('Unnamed: 0')\n",
    "article_path = '../dataset/3/articles.tsv'\n",
    "comment_path = '../dataset/3/comments.tsv'"
   ]
  },
  {
   "cell_type": "code",
   "execution_count": 11,
   "metadata": {},
   "outputs": [],
   "source": [
    "hs = HMDPSummarizer(article_path, gold_standard_path, RUNS=400, T=5)\n",
    "ls = LDASummarizer(article_path, gold_standard_path, RUNS=400, T=5)\n",
    "ms = MCLSummarizer(gold_standard_path)"
   ]
  },
  {
   "cell_type": "code",
   "execution_count": 12,
   "metadata": {},
   "outputs": [],
   "source": [
    "recalls = {\n",
    "    \"HMDP\" : [],\n",
    "    \"LDA\" : [],\n",
    "    \"MCL\" : []\n",
    "}\n",
    "\n",
    "precisions = { \n",
    "    \"HMDP\" : [],\n",
    "    \"LDA\" : [],\n",
    "    \"MCL\" : []\n",
    "}\n",
    "\n",
    "f_measures = {\n",
    "    \"HMDP\" : [],\n",
    "    \"LDA\" : [],\n",
    "    \"MCL\" : []\n",
    "}"
   ]
  },
  {
   "cell_type": "code",
   "execution_count": 14,
   "metadata": {},
   "outputs": [],
   "source": [
    "%%capture\n",
    "\n",
    "for _ in range(2):\n",
    "    _, comments_hmdp = hs.summarize()\n",
    "    _, comments_lda = ls.summarize()\n",
    "    # with this inflation parameter MCL also finds 5 clusters\n",
    "    _, comments_mcl = ms.summarize(i=1.55)\n",
    "    \n",
    "    comments_hmdp.set_index('Unnamed: 0', inplace=True)\n",
    "    comments_lda.set_index('Unnamed: 0', inplace=True)\n",
    "    comments_mcl.set_index('Unnamed: 0', inplace=True)\n",
    "    \n",
    "    recalls[\"HMDP\"].append(bcubed_recall(gold_standard, comments_hmdp))\n",
    "    recalls[\"LDA\"].append(bcubed_recall(gold_standard, comments_lda))\n",
    "    recalls[\"MCL\"].append(bcubed_recall(gold_standard, comments_mcl))\n",
    "    \n",
    "    precisions[\"HMDP\"].append(bcubed_precision(gold_standard, comments_hmdp))\n",
    "    precisions[\"LDA\"].append(bcubed_precision(gold_standard, comments_lda))\n",
    "    precisions[\"MCL\"].append(bcubed_precision(gold_standard, comments_mcl))\n",
    "    \n",
    "    f_measures[\"HMDP\"].append(bcubed_f_alpha(gold_standard, comments_hmdp, 0.5))\n",
    "    f_measures[\"LDA\"].append(bcubed_f_alpha(gold_standard, comments_lda, 0.5))\n",
    "    f_measures[\"MCL\"].append(bcubed_f_alpha(gold_standard, comments_mcl, 0.5))"
   ]
  },
  {
   "cell_type": "code",
   "execution_count": 15,
   "metadata": {},
   "outputs": [
    {
     "name": "stdout",
     "output_type": "stream",
     "text": [
      "{'HMDP': [0.653990250838077, 0.653990250838077], 'LDA': [0.49236363127667465, 0.48707849436110306], 'MCL': [0.6845801984932421, 0.6845801984932421]}\n",
      "{'HMDP': [0.437536945812808, 0.437536945812808], 'LDA': [0.3386332417582418, 0.34881481481481486], 'MCL': [0.3767106227106228, 0.3767106227106228]}\n",
      "{'HMDP': [0.4685526267035512, 0.4685526267035512], 'LDA': [0.3611879387271939, 0.3698099022209157], 'MCL': [0.41394226634207004, 0.41394226634207004]}\n"
     ]
    }
   ],
   "source": [
    "print(recalls)\n",
    "print(precisions)\n",
    "print(f_measures)\n",
    "\n",
    "\n",
    "df_r = pd.DataFrame(recalls)\n",
    "df_p = pd.DataFrame(precisions)\n",
    "df_f = pd.DataFrame(f_measures)"
   ]
  },
  {
   "cell_type": "code",
   "execution_count": 5,
   "metadata": {},
   "outputs": [
    {
     "name": "stdout",
     "output_type": "stream",
     "text": [
      "HMDP    0.524302\n",
      "LDA     0.403895\n",
      "MCL     0.485991\n",
      "dtype: float64\n"
     ]
    },
    {
     "data": {
      "text/plain": [
       "<matplotlib.axes._subplots.AxesSubplot at 0x7f1a1d792048>"
      ]
     },
     "execution_count": 5,
     "metadata": {},
     "output_type": "execute_result"
    },
    {
     "data": {
      "image/png": "[encoded data removed]",
      "text/plain": [
       "<Figure size 432x288 with 1 Axes>"
      ]
     },
     "metadata": {},
     "output_type": "display_data"
    }
   ],
   "source": [
    "# I originally calculated F_0.5 instead of F_1\n",
    "f1 = 2*((df_r * df_p)/(df_r + df_p)).mean()\n",
    "print(f1)\n",
    "f1.plot(kind='bar', title=\"F-measure\")"
   ]
  },
  {
   "cell_type": "code",
   "execution_count": 16,
   "metadata": {},
   "outputs": [
    {
     "data": {
      "text/plain": [
       "Text(0,0.5,'F-measure')"
      ]
     },
     "execution_count": 16,
     "metadata": {},
     "output_type": "execute_result"
    },
    {
     "data": {
      "image/png": "[encoded data removed]",
      "text/plain": [
       "<Figure size 432x288 with 1 Axes>"
      ]
     },
     "metadata": {},
     "output_type": "display_data"
    }
   ],
   "source": [
    "df_f.mean().plot(kind='bar', title=\"F-measure\")\n",
    "plt.ylabel(\"F-measure\")"
   ]
  },
  {
   "cell_type": "code",
   "execution_count": 17,
   "metadata": {},
   "outputs": [
    {
     "data": {
      "text/plain": [
       "Text(0,0.5,'Recall')"
      ]
     },
     "execution_count": 17,
     "metadata": {},
     "output_type": "execute_result"
    },
    {
     "data": {
      "image/png": "[encoded data removed]",
      "text/plain": [
       "<Figure size 432x288 with 1 Axes>"
      ]
     },
     "metadata": {},
     "output_type": "display_data"
    }
   ],
   "source": [
    "df_r.mean().plot(kind='bar', title=\"Recall\")\n",
    "plt.ylabel(\"Recall\")"
   ]
  },
  {
   "cell_type": "code",
   "execution_count": 18,
   "metadata": {},
   "outputs": [
    {
     "data": {
      "text/plain": [
       "Text(0,0.5,'Precision')"
      ]
     },
     "execution_count": 18,
     "metadata": {},
     "output_type": "execute_result"
    },
    {
     "data": {
      "image/png": "[encoded data removed]",
      "text/plain": [
       "<Figure size 432x288 with 1 Axes>"
      ]
     },
     "metadata": {},
     "output_type": "display_data"
    }
   ],
   "source": [
    "df_p.mean().plot(kind='bar', title=\"Precision\")\n",
    "plt.ylabel(\"Precision\")"
   ]
  },
  {
   "cell_type": "markdown",
   "metadata": {},
   "source": [
    "The comparison only within the gold standard shows that HMDP and LDA outperform LDA significantly with HMDP outperforming MCL.\n",
    "\n",
    "In the following all three models are compared on the entire dataset using the gold standard as an indication."
   ]
  },
  {
   "cell_type": "code",
   "execution_count": 3,
   "metadata": {},
   "outputs": [],
   "source": [
    "%%capture\n",
    "\n",
    "for _ in range(5):\n",
    "\n",
    "    recalls = {}\n",
    "    precisions = {}\n",
    "    f_measures = {}\n",
    "\n",
    "    hs = HMDPSummarizer(article_path, comment_path, RUNS=400, T=80)\n",
    "    ls = LDASummarizer(article_path, comment_path, RUNS=400, T=80)\n",
    "    ms = MCLSummarizer(comment_path)\n",
    "\n",
    "    hs._hmdp.MIN_DICT_WORDS = 20\n",
    "    ls._lda.MIN_DICT_WORDS = 20\n",
    "\n",
    "    _, comments_hmdp = hs.summarize()\n",
    "    _, comments_lda = ls.summarize()\n",
    "    # with this inflation parameter MCL also finds exactly 80 clusters\n",
    "    _, comments_mcl = ms.summarize(i=1.808)\n",
    "\n",
    "    comments_hmdp.set_index('Unnamed: 0', inplace=True)\n",
    "    comments_lda.set_index('Unnamed: 0', inplace=True)\n",
    "    comments_mcl.set_index('Unnamed: 0', inplace=True)\n",
    "\n",
    "\n",
    "    recalls[\"HMDP\"].append(bcubed_recall(gold_standard, comments_hmdp.loc[gold_standard.index])\n",
    "    recalls[\"LDA\"].append(bcubed_recall(gold_standard, comments_lda.loc[gold_standard.index]))\n",
    "    recalls[\"MCL\"].append(bcubed_recall(gold_standard, comments_mcl.loc[gold_standard.index]))\n",
    "\n",
    "    precisions[\"HMDP\"].append(bcubed_precision(gold_standard, comments_hmdp.loc[gold_standard.index]))\n",
    "    precisions[\"LDA\"].append(bcubed_precision(gold_standard, comments_lda.loc[gold_standard.index]))\n",
    "    precisions[\"MCL\"].append(bcubed_precision(gold_standard, comments_mcl.loc[gold_standard.index]))\n",
    "\n",
    "    f_measures[\"HMDP\"].append(bcubed_f_alpha(gold_standard, comments_hmdp.loc[gold_standard.index], 0.5))\n",
    "    f_measures[\"LDA\"].append(bcubed_f_alpha(gold_standard, comments_lda.loc[gold_standard.index], 0.5))\n",
    "    f_measures[\"MCL\"].append(bcubed_f_alpha(gold_standard, comments_mcl.loc[gold_standard.index], 0.5))"
   ]
  },
  {
   "cell_type": "code",
   "execution_count": 15,
   "metadata": {},
   "outputs": [
    {
     "name": "stdout",
     "output_type": "stream",
     "text": [
      "{'HMDP': 0.27394988579771185, 'LDA': 0.1995111684242119, 'MCL': 0.6404317558665386}\n",
      "{'HMDP': 0.779822510822511, 'LDA': 0.6650484848484848, 'MCL': 0.4993625914315569}\n",
      "{'HMDP': 0.5694971631549985, 'LDA': 0.45343866006042116, 'MCL': 0.5223755287792571}\n"
     ]
    }
   ],
   "source": [
    "df_r = pd.DataFrame(recalls, index=[0])\n",
    "df_p = pd.DataFrame(precisions, index=[0])\n",
    "df_f = pd.DataFrame(f_measures, index=[0])\n",
    "\n",
    "print(df_r.mean().to_dict())\n",
    "print(df_p.mean().to_dict())\n",
    "print(df_f.mean().to_dict())"
   ]
  },
  {
   "cell_type": "code",
   "execution_count": 16,
   "metadata": {},
   "outputs": [
    {
     "data": {
      "text/plain": [
       "Text(0,0.5,'F-measure')"
      ]
     },
     "execution_count": 16,
     "metadata": {},
     "output_type": "execute_result"
    },
    {
     "data": {
      "image/png": "[encoded data removed]",
      "text/plain": [
       "<Figure size 432x288 with 1 Axes>"
      ]
     },
     "metadata": {},
     "output_type": "display_data"
    }
   ],
   "source": [
    "df_f.mean().plot(kind='bar', title=\"F-measure\")\n",
    "plt.ylabel(\"F-measure\")"
   ]
  },
  {
   "cell_type": "code",
   "execution_count": 17,
   "metadata": {},
   "outputs": [
    {
     "data": {
      "text/plain": [
       "Text(0,0.5,'Recall')"
      ]
     },
     "execution_count": 17,
     "metadata": {},
     "output_type": "execute_result"
    },
    {
     "data": {
      "image/png": "[encoded data removed]",
      "text/plain": [
       "<Figure size 432x288 with 1 Axes>"
      ]
     },
     "metadata": {},
     "output_type": "display_data"
    }
   ],
   "source": [
    "df_r.mean().plot(kind='bar', title=\"Recall\")\n",
    "plt.ylabel(\"Recall\")"
   ]
  },
  {
   "cell_type": "code",
   "execution_count": 18,
   "metadata": {},
   "outputs": [
    {
     "data": {
      "text/plain": [
       "Text(0,0.5,'Precision')"
      ]
     },
     "execution_count": 18,
     "metadata": {},
     "output_type": "execute_result"
    },
    {
     "data": {
      "image/png": "[encoded data removed]",
      "text/plain": [
       "<Figure size 432x288 with 1 Axes>"
      ]
     },
     "metadata": {},
     "output_type": "display_data"
    }
   ],
   "source": [
    "df_p.mean().plot(kind='bar', title=\"Precision\")\n",
    "plt.ylabel(\"Precision\")"
   ]
  },
  {
   "cell_type": "markdown",
   "metadata": {},
   "source": [
    "In order to make sense of the drastically different results we want to look at the clustering structure of the three models"
   ]
  },
  {
   "cell_type": "code",
   "execution_count": 8,
   "metadata": {},
   "outputs": [
    {
     "data": {
      "text/plain": [
       "0     297\n",
       "1     279\n",
       "4     246\n",
       "6     178\n",
       "50    162\n",
       "8     158\n",
       "13    150\n",
       "55    147\n",
       "11    144\n",
       "9     138\n",
       "5     127\n",
       "3     116\n",
       "48    113\n",
       "66    112\n",
       "14    111\n",
       "42     97\n",
       "15     96\n",
       "2      94\n",
       "18     94\n",
       "77     91\n",
       "58     86\n",
       "28     81\n",
       "41     79\n",
       "12     78\n",
       "60     77\n",
       "59     76\n",
       "32     70\n",
       "20     69\n",
       "30     69\n",
       "23     68\n",
       "     ... \n",
       "24     54\n",
       "35     53\n",
       "63     52\n",
       "34     51\n",
       "37     51\n",
       "31     50\n",
       "64     49\n",
       "73     49\n",
       "75     48\n",
       "69     48\n",
       "54     48\n",
       "53     47\n",
       "51     47\n",
       "44     47\n",
       "7      47\n",
       "40     45\n",
       "22     44\n",
       "33     44\n",
       "19     43\n",
       "49     43\n",
       "29     43\n",
       "57     41\n",
       "68     40\n",
       "21     39\n",
       "52     37\n",
       "27     37\n",
       "47     37\n",
       "39     33\n",
       "76     31\n",
       "56     25\n",
       "Name: topic_id, Length: 80, dtype: int64"
      ]
     },
     "execution_count": 8,
     "metadata": {},
     "output_type": "execute_result"
    }
   ],
   "source": [
    "comments_hmdp[\"topic_id\"].value_counts()"
   ]
  },
  {
   "cell_type": "code",
   "execution_count": 9,
   "metadata": {},
   "outputs": [
    {
     "data": {
      "text/plain": [
       "12    1673\n",
       "73     465\n",
       "35     451\n",
       "23     287\n",
       "56     192\n",
       "0      189\n",
       "20     144\n",
       "36     134\n",
       "14     116\n",
       "58     109\n",
       "21     108\n",
       "51      89\n",
       "74      88\n",
       "30      78\n",
       "28      77\n",
       "22      76\n",
       "47      74\n",
       "6       73\n",
       "60      73\n",
       "15      69\n",
       "18      61\n",
       "11      60\n",
       "3       59\n",
       "7       57\n",
       "66      56\n",
       "69      53\n",
       "45      52\n",
       "75      51\n",
       "40      49\n",
       "37      49\n",
       "      ... \n",
       "42      25\n",
       "59      25\n",
       "55      24\n",
       "65      24\n",
       "4       23\n",
       "38      23\n",
       "29      21\n",
       "63      20\n",
       "26      17\n",
       "76      16\n",
       "77      15\n",
       "17      15\n",
       "43      15\n",
       "67      14\n",
       "9       13\n",
       "33      13\n",
       "5       12\n",
       "64      12\n",
       "49       9\n",
       "44       9\n",
       "10       8\n",
       "16       8\n",
       "48       8\n",
       "25       8\n",
       "71       7\n",
       "79       7\n",
       "41       6\n",
       "39       6\n",
       "54       3\n",
       "78       3\n",
       "Name: topic_id, Length: 79, dtype: int64"
      ]
     },
     "execution_count": 9,
     "metadata": {},
     "output_type": "execute_result"
    }
   ],
   "source": [
    "comments_lda[\"topic_id\"].value_counts()"
   ]
  },
  {
   "cell_type": "code",
   "execution_count": 19,
   "metadata": {},
   "outputs": [
    {
     "data": {
      "text/plain": [
       "0.0     2669\n",
       "1.0     1893\n",
       "2.0      218\n",
       "3.0      139\n",
       "4.0      136\n",
       "5.0      114\n",
       "6.0      107\n",
       "7.0      101\n",
       "8.0       83\n",
       "9.0       52\n",
       "10.0      49\n",
       "11.0      48\n",
       "12.0      34\n",
       "13.0      31\n",
       "14.0      29\n",
       "15.0      28\n",
       "16.0      26\n",
       "17.0      23\n",
       "19.0      20\n",
       "18.0      20\n",
       "21.0      17\n",
       "20.0      17\n",
       "23.0      16\n",
       "22.0      16\n",
       "24.0      15\n",
       "26.0      14\n",
       "25.0      14\n",
       "27.0      14\n",
       "28.0      13\n",
       "29.0      12\n",
       "        ... \n",
       "50.0       4\n",
       "55.0       4\n",
       "51.0       4\n",
       "52.0       4\n",
       "54.0       4\n",
       "53.0       4\n",
       "61.0       3\n",
       "64.0       3\n",
       "63.0       3\n",
       "62.0       3\n",
       "58.0       3\n",
       "59.0       3\n",
       "60.0       3\n",
       "57.0       3\n",
       "65.0       3\n",
       "56.0       3\n",
       "70.0       2\n",
       "68.0       2\n",
       "72.0       2\n",
       "69.0       2\n",
       "67.0       2\n",
       "66.0       2\n",
       "71.0       2\n",
       "77.0       1\n",
       "75.0       1\n",
       "73.0       1\n",
       "74.0       1\n",
       "76.0       1\n",
       "79.0       1\n",
       "78.0       1\n",
       "Name: topic_id, Length: 80, dtype: int64"
      ]
     },
     "execution_count": 19,
     "metadata": {},
     "output_type": "execute_result"
    }
   ],
   "source": [
    "comments_mcl[\"topic_id\"].value_counts()"
   ]
  },
  {
   "cell_type": "code",
   "execution_count": 20,
   "metadata": {},
   "outputs": [
    {
     "data": {
      "text/plain": [
       "0.0     58\n",
       "1.0     22\n",
       "7.0     11\n",
       "6.0      3\n",
       "14.0     1\n",
       "4.0      1\n",
       "24.0     1\n",
       "2.0      1\n",
       "3.0      1\n",
       "12.0     1\n",
       "Name: topic_id, dtype: int64"
      ]
     },
     "execution_count": 20,
     "metadata": {},
     "output_type": "execute_result"
    }
   ],
   "source": [
    "(comments_mcl.loc[gold_standard.index])[\"topic_id\"].value_counts()"
   ]
  },
  {
   "cell_type": "code",
   "execution_count": 12,
   "metadata": {},
   "outputs": [
    {
     "data": {
      "text/plain": [
       "0     22\n",
       "3     12\n",
       "50     7\n",
       "2      7\n",
       "9      6\n",
       "55     5\n",
       "30     3\n",
       "6      2\n",
       "25     2\n",
       "28     2\n",
       "46     2\n",
       "34     2\n",
       "56     2\n",
       "75     2\n",
       "58     2\n",
       "49     1\n",
       "17     1\n",
       "1      1\n",
       "72     1\n",
       "4      1\n",
       "5      1\n",
       "66     1\n",
       "64     1\n",
       "13     1\n",
       "14     1\n",
       "60     1\n",
       "21     1\n",
       "47     1\n",
       "26     1\n",
       "59     1\n",
       "31     1\n",
       "32     1\n",
       "76     1\n",
       "35     1\n",
       "39     1\n",
       "42     1\n",
       "79     1\n",
       "Name: topic_id, dtype: int64"
      ]
     },
     "execution_count": 12,
     "metadata": {},
     "output_type": "execute_result"
    }
   ],
   "source": [
    "(comments_hmdp.loc[gold_standard.index])[\"topic_id\"].value_counts()"
   ]
  },
  {
   "cell_type": "code",
   "execution_count": 13,
   "metadata": {},
   "outputs": [
    {
     "data": {
      "text/plain": [
       "12    25\n",
       "35    11\n",
       "28     6\n",
       "73     6\n",
       "22     6\n",
       "1      5\n",
       "11     5\n",
       "60     5\n",
       "27     5\n",
       "3      4\n",
       "0      3\n",
       "23     2\n",
       "59     2\n",
       "36     1\n",
       "14     1\n",
       "76     1\n",
       "72     1\n",
       "6      1\n",
       "62     1\n",
       "13     1\n",
       "17     1\n",
       "42     1\n",
       "21     1\n",
       "47     1\n",
       "43     1\n",
       "77     1\n",
       "31     1\n",
       "78     1\n",
       "Name: topic_id, dtype: int64"
      ]
     },
     "execution_count": 13,
     "metadata": {},
     "output_type": "execute_result"
    }
   ],
   "source": [
    "(comments_lda.loc[gold_standard.index])[\"topic_id\"].value_counts()"
   ]
  },
  {
   "cell_type": "markdown",
   "metadata": {},
   "source": [
    "Upon manual inspection it becomes apparent that the MCL generally has one or two very large clusters, which are favoured in the BCubed Recall metric when used on only a subset. This explains the higher recall which is thus not necessarily connected to an improved clustering performance.\n",
    "\n",
    "It appears as though LDA and HMDP generally provide a smoother cluster distribution. MCL has many clusters with only 1-4 comments, which generally does not appear in the Topic Modeling approaches."
   ]
  },
  {
   "cell_type": "code",
   "execution_count": 21,
   "metadata": {},
   "outputs": [
    {
     "data": {
      "text/plain": [
       "count      80.000000\n",
       "mean       77.262500\n",
       "std       362.358161\n",
       "min         1.000000\n",
       "25%         3.000000\n",
       "50%         6.000000\n",
       "75%        17.750000\n",
       "max      2669.000000\n",
       "Name: topic_id, dtype: float64"
      ]
     },
     "execution_count": 21,
     "metadata": {},
     "output_type": "execute_result"
    }
   ],
   "source": [
    "comments_mcl[\"topic_id\"].value_counts().describe()"
   ]
  },
  {
   "cell_type": "code",
   "execution_count": 23,
   "metadata": {},
   "outputs": [
    {
     "data": {
      "text/plain": [
       "count     80.000000\n",
       "mean      77.437500\n",
       "std       51.640393\n",
       "min       25.000000\n",
       "25%       48.000000\n",
       "50%       59.000000\n",
       "75%       87.250000\n",
       "max      297.000000\n",
       "Name: topic_id, dtype: float64"
      ]
     },
     "execution_count": 23,
     "metadata": {},
     "output_type": "execute_result"
    }
   ],
   "source": [
    "comments_hmdp[\"topic_id\"].value_counts().describe()"
   ]
  },
  {
   "cell_type": "code",
   "execution_count": 25,
   "metadata": {},
   "outputs": [
    {
     "data": {
      "text/plain": [
       "count      79.000000\n",
       "mean       78.417722\n",
       "std       198.708110\n",
       "min         3.000000\n",
       "25%        15.500000\n",
       "50%        34.000000\n",
       "75%        65.000000\n",
       "max      1673.000000\n",
       "Name: topic_id, dtype: float64"
      ]
     },
     "execution_count": 25,
     "metadata": {},
     "output_type": "execute_result"
    }
   ],
   "source": [
    "comments_lda[\"topic_id\"].value_counts().describe()"
   ]
  },
  {
   "cell_type": "code",
   "execution_count": 22,
   "metadata": {},
   "outputs": [
    {
     "data": {
      "text/plain": [
       "topic_id\n",
       "0.0     767\n",
       "1.0     601\n",
       "2.0     178\n",
       "3.0     125\n",
       "4.0     118\n",
       "5.0     105\n",
       "6.0      98\n",
       "7.0      53\n",
       "8.0      71\n",
       "9.0      45\n",
       "10.0     44\n",
       "11.0     42\n",
       "12.0     30\n",
       "13.0     31\n",
       "14.0     25\n",
       "15.0     26\n",
       "16.0     20\n",
       "17.0     16\n",
       "18.0     17\n",
       "19.0     18\n",
       "20.0     15\n",
       "21.0     15\n",
       "22.0     12\n",
       "23.0     12\n",
       "24.0     12\n",
       "25.0     14\n",
       "26.0     14\n",
       "27.0     13\n",
       "28.0     12\n",
       "29.0      9\n",
       "       ... \n",
       "50.0      3\n",
       "51.0      3\n",
       "52.0      4\n",
       "53.0      3\n",
       "54.0      4\n",
       "55.0      3\n",
       "56.0      3\n",
       "57.0      1\n",
       "58.0      2\n",
       "59.0      3\n",
       "60.0      3\n",
       "61.0      3\n",
       "62.0      3\n",
       "63.0      3\n",
       "64.0      3\n",
       "65.0      3\n",
       "66.0      2\n",
       "67.0      1\n",
       "68.0      2\n",
       "69.0      2\n",
       "70.0      1\n",
       "71.0      1\n",
       "72.0      1\n",
       "73.0      1\n",
       "74.0      1\n",
       "75.0      1\n",
       "76.0      1\n",
       "77.0      1\n",
       "78.0      1\n",
       "79.0      1\n",
       "Name: sdid, Length: 80, dtype: int64"
      ]
     },
     "execution_count": 22,
     "metadata": {},
     "output_type": "execute_result"
    }
   ],
   "source": [
    "comments_mcl.groupby(\"topic_id\").sdid.nunique()"
   ]
  },
  {
   "cell_type": "code",
   "execution_count": 27,
   "metadata": {},
   "outputs": [
    {
     "data": {
      "text/plain": [
       "topic_id\n",
       "0     151\n",
       "1     146\n",
       "2      67\n",
       "3      60\n",
       "4     161\n",
       "5      85\n",
       "6     115\n",
       "7      40\n",
       "8     125\n",
       "9      74\n",
       "10     53\n",
       "11     99\n",
       "12     54\n",
       "13     88\n",
       "14    100\n",
       "15     83\n",
       "16     53\n",
       "17     57\n",
       "18     87\n",
       "19     38\n",
       "20     57\n",
       "21     36\n",
       "22     36\n",
       "23     57\n",
       "24     42\n",
       "25     53\n",
       "26     54\n",
       "27     35\n",
       "28     65\n",
       "29     41\n",
       "     ... \n",
       "50    105\n",
       "51     43\n",
       "52     34\n",
       "53     40\n",
       "54     44\n",
       "55    107\n",
       "56     22\n",
       "57     36\n",
       "58     76\n",
       "59     66\n",
       "60     71\n",
       "61     52\n",
       "62     49\n",
       "63     50\n",
       "64     46\n",
       "65     57\n",
       "66     87\n",
       "67     50\n",
       "68     39\n",
       "69     42\n",
       "70     52\n",
       "71     48\n",
       "72     58\n",
       "73     46\n",
       "74     58\n",
       "75     43\n",
       "76     30\n",
       "77     80\n",
       "78     51\n",
       "79     57\n",
       "Name: sdid, Length: 80, dtype: int64"
      ]
     },
     "execution_count": 27,
     "metadata": {},
     "output_type": "execute_result"
    }
   ],
   "source": [
    "comments_hmdp.groupby(\"topic_id\").sdid.nunique()"
   ]
  },
  {
   "cell_type": "code",
   "execution_count": 28,
   "metadata": {},
   "outputs": [
    {
     "data": {
      "text/plain": [
       "topic_id\n",
       "0     166\n",
       "1      37\n",
       "2      31\n",
       "3      46\n",
       "4      22\n",
       "5      12\n",
       "6      66\n",
       "7      43\n",
       "8      24\n",
       "9      13\n",
       "10      8\n",
       "11     44\n",
       "12    738\n",
       "13     28\n",
       "14    107\n",
       "15     68\n",
       "16      8\n",
       "17     14\n",
       "18     50\n",
       "19     25\n",
       "20    115\n",
       "21    100\n",
       "22     43\n",
       "23    230\n",
       "24     18\n",
       "25      8\n",
       "26     16\n",
       "27     36\n",
       "28     48\n",
       "29     20\n",
       "     ... \n",
       "50     37\n",
       "51     84\n",
       "52     24\n",
       "53     43\n",
       "54      3\n",
       "55     19\n",
       "56    167\n",
       "57     27\n",
       "58     69\n",
       "59     19\n",
       "60     48\n",
       "61     44\n",
       "62     26\n",
       "63     20\n",
       "64      9\n",
       "65     23\n",
       "66     35\n",
       "67     13\n",
       "68     30\n",
       "69     45\n",
       "70     27\n",
       "71      7\n",
       "72     26\n",
       "73    261\n",
       "74     84\n",
       "75     48\n",
       "76     16\n",
       "77     14\n",
       "78      3\n",
       "79      7\n",
       "Name: sdid, Length: 79, dtype: int64"
      ]
     },
     "execution_count": 28,
     "metadata": {},
     "output_type": "execute_result"
    }
   ],
   "source": [
    "comments_lda.groupby(\"topic_id\").sdid.nunique()"
   ]
  },
  {
   "cell_type": "code",
   "execution_count": 23,
   "metadata": {},
   "outputs": [
    {
     "data": {
      "text/plain": [
       "topic_id\n",
       "0.0     36\n",
       "1.0     33\n",
       "2.0     24\n",
       "3.0     20\n",
       "4.0     19\n",
       "5.0     19\n",
       "6.0     19\n",
       "7.0      7\n",
       "8.0     17\n",
       "9.0     14\n",
       "10.0    12\n",
       "11.0    17\n",
       "12.0    10\n",
       "13.0    10\n",
       "14.0     8\n",
       "15.0    10\n",
       "16.0     7\n",
       "17.0     5\n",
       "18.0     8\n",
       "19.0    11\n",
       "20.0     9\n",
       "21.0     9\n",
       "22.0     2\n",
       "23.0     8\n",
       "24.0     5\n",
       "25.0     7\n",
       "26.0    10\n",
       "27.0     6\n",
       "28.0     9\n",
       "29.0     6\n",
       "        ..\n",
       "50.0     2\n",
       "51.0     2\n",
       "52.0     3\n",
       "53.0     2\n",
       "54.0     1\n",
       "55.0     1\n",
       "56.0     3\n",
       "57.0     1\n",
       "58.0     2\n",
       "59.0     3\n",
       "60.0     3\n",
       "61.0     2\n",
       "62.0     3\n",
       "63.0     1\n",
       "64.0     3\n",
       "65.0     1\n",
       "66.0     2\n",
       "67.0     1\n",
       "68.0     2\n",
       "69.0     1\n",
       "70.0     1\n",
       "71.0     1\n",
       "72.0     1\n",
       "73.0     1\n",
       "74.0     1\n",
       "75.0     1\n",
       "76.0     1\n",
       "77.0     1\n",
       "78.0     1\n",
       "79.0     1\n",
       "Name: headline, Length: 80, dtype: int64"
      ]
     },
     "execution_count": 23,
     "metadata": {},
     "output_type": "execute_result"
    }
   ],
   "source": [
    "comments_mcl.groupby(\"topic_id\").headline.nunique()"
   ]
  },
  {
   "cell_type": "code",
   "execution_count": 30,
   "metadata": {},
   "outputs": [
    {
     "data": {
      "text/plain": [
       "topic_id\n",
       "0     22\n",
       "1     11\n",
       "2     14\n",
       "3     12\n",
       "4     28\n",
       "5     11\n",
       "6     20\n",
       "7     13\n",
       "8     23\n",
       "9     18\n",
       "10    16\n",
       "11     8\n",
       "12    13\n",
       "13    13\n",
       "14    16\n",
       "15    20\n",
       "16    13\n",
       "17    16\n",
       "18    11\n",
       "19    16\n",
       "20    10\n",
       "21    16\n",
       "22    11\n",
       "23    17\n",
       "24    12\n",
       "25    16\n",
       "26    14\n",
       "27    11\n",
       "28    13\n",
       "29    14\n",
       "      ..\n",
       "50    14\n",
       "51    15\n",
       "52    12\n",
       "53    16\n",
       "54    16\n",
       "55    19\n",
       "56     7\n",
       "57    13\n",
       "58    14\n",
       "59    16\n",
       "60    17\n",
       "61    14\n",
       "62    12\n",
       "63    14\n",
       "64    14\n",
       "65    18\n",
       "66    13\n",
       "67    15\n",
       "68    12\n",
       "69    12\n",
       "70    16\n",
       "71     9\n",
       "72    14\n",
       "73    13\n",
       "74    15\n",
       "75    13\n",
       "76    11\n",
       "77    19\n",
       "78    10\n",
       "79    19\n",
       "Name: headline, Length: 80, dtype: int64"
      ]
     },
     "execution_count": 30,
     "metadata": {},
     "output_type": "execute_result"
    }
   ],
   "source": [
    "comments_hmdp.groupby(\"topic_id\").headline.nunique()"
   ]
  },
  {
   "cell_type": "code",
   "execution_count": 31,
   "metadata": {},
   "outputs": [
    {
     "data": {
      "text/plain": [
       "topic_id\n",
       "0     26\n",
       "1     10\n",
       "2     10\n",
       "3     10\n",
       "4      8\n",
       "5      7\n",
       "6     14\n",
       "7      9\n",
       "8      6\n",
       "9      9\n",
       "10     5\n",
       "11     6\n",
       "12    36\n",
       "13     9\n",
       "14    21\n",
       "15    15\n",
       "16     4\n",
       "17     5\n",
       "18    15\n",
       "19     6\n",
       "20    27\n",
       "21    18\n",
       "22    12\n",
       "23    29\n",
       "24     7\n",
       "25     4\n",
       "26     8\n",
       "27     8\n",
       "28     6\n",
       "29     9\n",
       "      ..\n",
       "50    13\n",
       "51    19\n",
       "52     8\n",
       "53     8\n",
       "54     3\n",
       "55     7\n",
       "56    20\n",
       "57    13\n",
       "58     9\n",
       "59     6\n",
       "60     9\n",
       "61    13\n",
       "62     8\n",
       "63    10\n",
       "64     5\n",
       "65    11\n",
       "66     3\n",
       "67     6\n",
       "68    16\n",
       "69    18\n",
       "70     8\n",
       "71     3\n",
       "72     8\n",
       "73    22\n",
       "74    16\n",
       "75    15\n",
       "76     6\n",
       "77     7\n",
       "78     3\n",
       "79     4\n",
       "Name: headline, Length: 79, dtype: int64"
      ]
     },
     "execution_count": 31,
     "metadata": {},
     "output_type": "execute_result"
    }
   ],
   "source": [
    "comments_lda.groupby(\"topic_id\").headline.nunique()"
   ]
  }
 ],
 "metadata": {
  "kernelspec": {
   "display_name": "Python 3",
   "language": "python",
   "name": "python3"
  },
  "language_info": {
   "codemirror_mode": {
    "name": "ipython",
    "version": 3
   },
   "file_extension": ".py",
   "mimetype": "text/x-python",
   "name": "python",
   "nbconvert_exporter": "python",
   "pygments_lexer": "ipython3",
   "version": "3.6.3"
  }
 },
 "nbformat": 4,
 "nbformat_minor": 2
}
