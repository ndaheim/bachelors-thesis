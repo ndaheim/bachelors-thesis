{
 "cells": [
  {
   "cell_type": "markdown",
   "metadata": {},
   "source": [
    "This notebook contains a linear regression model, which is used to replicate the feature weighting process in\n",
    "Aker et al. 2016 \"A Graph-based Approach to Topic Clustering for Online Comments to News\"\n",
    "\n",
    "For the linear regression model positive instances are comment pairs from the same cluster and negative instances are comments from distinct clusters as identified in the gold standard.\n",
    "The model falls short to the one it seeks to replicate as the target value is binary, 1 for positive and 0 for negative instances, while positive instances had a \"quote\" score in the range of [0.5,1] as target value in the original paper."
   ]
  },
  {
   "cell_type": "code",
   "execution_count": 2,
   "metadata": {},
   "outputs": [],
   "source": [
    "import numpy as np\n",
    "import pandas as pd\n",
    "import sklearn\n",
    "from scipy.optimize import nnls\n",
    "from scipy.optimize import lsq_linear\n",
    "\n",
    "from similarity_measures import *"
   ]
  },
  {
   "cell_type": "code",
   "execution_count": 3,
   "metadata": {},
   "outputs": [],
   "source": [
    "df = pd.read_csv('../dataset/3/annotations.tsv', sep='\\t').reset_index(drop=True)"
   ]
  },
  {
   "cell_type": "code",
   "execution_count": 4,
   "metadata": {},
   "outputs": [],
   "source": [
    "targets = np.zeros((len(df)*len(df), 8), dtype=float)"
   ]
  },
  {
   "cell_type": "code",
   "execution_count": 5,
   "metadata": {},
   "outputs": [],
   "source": [
    "sparse_tfidf = tf_idf_vectorize(df[\"text\"].tolist())\n",
    "sparse_tf = tf_vectorize(df[\"text\"].tolist())\n",
    "sim_matrix_tfidf = get_cosine_similarity_pairwise(sparse_tfidf)\n",
    "sim_matrix_tf = get_cosine_similarity_pairwise(sparse_tf)\n",
    "\n",
    "df[\"nes\"] = df.text.map(lambda row: set(named_entities(row)))"
   ]
  },
  {
   "cell_type": "code",
   "execution_count": 6,
   "metadata": {},
   "outputs": [],
   "source": [
    "def fill_cells(targets, df, i, j, target):\n",
    "    row = len(df)*i+j\n",
    "    targets[row,0] = sim_matrix_tf[i][j]\n",
    "    targets[row,1] = sim_matrix_tfidf[i][j]\n",
    "    targets[row,2] = cosine_modified(df.iloc[i].text, df.iloc[j].text, is_set=False)\n",
    "    targets[row,3] = dice(df.iloc[i].text, df.iloc[j].text, is_set=False)\n",
    "    targets[row,4] = dice(df.iloc[i].text, df.iloc[j].text, is_set=False)\n",
    "    targets[row,5] = same_thread(df.iloc[i], df.iloc[j])\n",
    "    targets[row,6] = ne_overlap(df.iloc[i].nes, df.iloc[j].nes, chunked=True)\n",
    "    targets[row,7] = target\n",
    "    \n",
    "    return targets"
   ]
  },
  {
   "cell_type": "code",
   "execution_count": 7,
   "metadata": {},
   "outputs": [],
   "source": [
    "# fill positive and negative instances\n",
    "for i in df.index:\n",
    "    for j in df.index:\n",
    "        if df.iloc[i].cluster == df.iloc[j].cluster:\n",
    "            targets = fill_cells(targets, df, i, j, 1.0)\n",
    "        else:\n",
    "            targets = fill_cells(targets, df, i, j, 0.0)"
   ]
  },
  {
   "cell_type": "code",
   "execution_count": 8,
   "metadata": {},
   "outputs": [
    {
     "name": "stdout",
     "output_type": "stream",
     "text": [
      "No. of positive instances: 2524\n",
      "No. of negative instances: 7476\n"
     ]
    }
   ],
   "source": [
    "print(\"No. of positive instances: {}\".format(len(targets[targets[:,7] == 1.0])))\n",
    "print(\"No. of negative instances: {}\".format(len(targets[targets[:,7] == 0.0])))"
   ]
  },
  {
   "cell_type": "code",
   "execution_count": 9,
   "metadata": {},
   "outputs": [
    {
     "data": {
      "text/plain": [
       "'\\n#results in some feature weights being negative\\n\\nreg = sklearn.linear_model.LinearRegression().fit(X, y)\\n'"
      ]
     },
     "execution_count": 9,
     "metadata": {},
     "output_type": "execute_result"
    }
   ],
   "source": [
    "X = targets[:,0:7]\n",
    "y = targets[:,7]\n",
    "\"\"\"\n",
    "#results in some feature weights being negative\n",
    "\n",
    "reg = sklearn.linear_model.LinearRegression().fit(X, y)\n",
    "\"\"\""
   ]
  },
  {
   "cell_type": "code",
   "execution_count": 10,
   "metadata": {},
   "outputs": [],
   "source": [
    "# use Non-negative least squares optimization\n",
    "x, rnorm = nnls(X, y)"
   ]
  },
  {
   "cell_type": "code",
   "execution_count": 12,
   "metadata": {},
   "outputs": [
    {
     "data": {
      "text/plain": [
       "array([0.21632516, 0.16902832, 0.15730916, 0.        , 0.14558136,\n",
       "       0.35676363, 0.10640532])"
      ]
     },
     "execution_count": 12,
     "metadata": {},
     "output_type": "execute_result"
    }
   ],
   "source": [
    "# results in a coefficient being zero\n",
    "x"
   ]
  },
  {
   "cell_type": "code",
   "execution_count": 13,
   "metadata": {},
   "outputs": [],
   "source": [
    "# Thus the coefficients are calculated within a bound\n",
    "sol = lsq_linear(X, y, bounds=(0.1,np.infty))"
   ]
  },
  {
   "cell_type": "code",
   "execution_count": 14,
   "metadata": {},
   "outputs": [
    {
     "data": {
      "text/plain": [
       "array([0.22332566, 0.12433157, 0.15268604, 0.1       , 0.1       ,\n",
       "       0.35188559, 0.10040456])"
      ]
     },
     "execution_count": 14,
     "metadata": {},
     "output_type": "execute_result"
    }
   ],
   "source": [
    "# weights found through least squares in [0.1, inf]\n",
    "sol[\"x\"]"
   ]
  },
  {
   "cell_type": "markdown",
   "metadata": {},
   "source": [
    "The same shall now be done for the basic feature set of only Cosine Similarity and the Thread-relationship"
   ]
  },
  {
   "cell_type": "code",
   "execution_count": 15,
   "metadata": {},
   "outputs": [],
   "source": [
    "# select feature subset\n",
    "X_basic = X[:, [1,5]]"
   ]
  },
  {
   "cell_type": "code",
   "execution_count": 16,
   "metadata": {},
   "outputs": [
    {
     "data": {
      "text/plain": [
       "array([1.65807057, 0.        ])"
      ]
     },
     "execution_count": 16,
     "metadata": {},
     "output_type": "execute_result"
    }
   ],
   "source": [
    "# again the Thread-relationship would be zero through regression\n",
    "x, rnorm = nnls(X_basic, y)\n",
    "x"
   ]
  },
  {
   "cell_type": "code",
   "execution_count": 17,
   "metadata": {},
   "outputs": [],
   "source": [
    "sol = lsq_linear(X_basic, y, bounds=(0.1, np.infty))"
   ]
  },
  {
   "cell_type": "code",
   "execution_count": 18,
   "metadata": {},
   "outputs": [
    {
     "data": {
      "text/plain": [
       "array([1.60643947, 0.1       ])"
      ]
     },
     "execution_count": 18,
     "metadata": {},
     "output_type": "execute_result"
    }
   ],
   "source": [
    "# weights found\n",
    "sol[\"x\"]"
   ]
  }
 ],
 "metadata": {
  "kernelspec": {
   "display_name": "Python 3",
   "language": "python",
   "name": "python3"
  },
  "language_info": {
   "codemirror_mode": {
    "name": "ipython",
    "version": 3
   },
   "file_extension": ".py",
   "mimetype": "text/x-python",
   "name": "python",
   "nbconvert_exporter": "python",
   "pygments_lexer": "ipython3",
   "version": "3.6.3"
  }
 },
 "nbformat": 4,
 "nbformat_minor": 2
}
